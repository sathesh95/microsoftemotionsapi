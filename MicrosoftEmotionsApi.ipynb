{
 "cells": [
  {
   "cell_type": "code",
   "execution_count": 1,
   "metadata": {},
   "outputs": [
    {
     "ename": "CognitiveFaceException",
     "evalue": "Error when calling Cognitive Face API:\n\tstatus_code: 401\n\tcode: Unspecified\n\tmessage: Access denied due to invalid subscription key. Make sure you are subscribed to an API you are trying to call and provide the right key.\n",
     "output_type": "error",
     "traceback": [
      "\u001b[1;31m---------------------------------------------------------------------------\u001b[0m",
      "\u001b[1;31mCognitiveFaceException\u001b[0m                    Traceback (most recent call last)",
      "\u001b[1;32m<ipython-input-1-9f6e469409a0>\u001b[0m in \u001b[0;36m<module>\u001b[1;34m()\u001b[0m\n\u001b[0;32m     12\u001b[0m \u001b[0mCF\u001b[0m\u001b[1;33m.\u001b[0m\u001b[0mBaseUrl\u001b[0m\u001b[1;33m.\u001b[0m\u001b[0mset\u001b[0m\u001b[1;33m(\u001b[0m\u001b[0mBASE_URL\u001b[0m\u001b[1;33m)\u001b[0m\u001b[1;33m\u001b[0m\u001b[0m\n\u001b[0;32m     13\u001b[0m \u001b[0mimg_url\u001b[0m \u001b[1;33m=\u001b[0m \u001b[1;34mr'C:\\Users\\Nithin\\Pictures\\Camera Roll\\nithincheck2.jpg'\u001b[0m \u001b[1;31m# the image to process\u001b[0m\u001b[1;33m\u001b[0m\u001b[0m\n\u001b[1;32m---> 14\u001b[1;33m \u001b[0mfaces\u001b[0m \u001b[1;33m=\u001b[0m \u001b[0mCF\u001b[0m\u001b[1;33m.\u001b[0m\u001b[0mface\u001b[0m\u001b[1;33m.\u001b[0m\u001b[0mdetect\u001b[0m\u001b[1;33m(\u001b[0m\u001b[0mimg_url\u001b[0m\u001b[1;33m,\u001b[0m\u001b[0mattributes\u001b[0m\u001b[1;33m=\u001b[0m\u001b[1;34m'age,gender,emotion'\u001b[0m\u001b[1;33m)\u001b[0m\u001b[1;33m\u001b[0m\u001b[0m\n\u001b[0m\u001b[0;32m     15\u001b[0m \u001b[1;31m#print(faces)\u001b[0m\u001b[1;33m\u001b[0m\u001b[1;33m\u001b[0m\u001b[0m\n\u001b[0;32m     16\u001b[0m \u001b[0mlist1\u001b[0m\u001b[1;33m=\u001b[0m\u001b[1;33m[\u001b[0m\u001b[1;33m]\u001b[0m\u001b[1;33m\u001b[0m\u001b[0m\n",
      "\u001b[1;32m~\\Anaconda3\\lib\\site-packages\\cognitive_face\\face.py\u001b[0m in \u001b[0;36mdetect\u001b[1;34m(image, face_id, landmarks, attributes)\u001b[0m\n\u001b[0;32m     39\u001b[0m \u001b[1;33m\u001b[0m\u001b[0m\n\u001b[0;32m     40\u001b[0m     return util.request(\n\u001b[1;32m---> 41\u001b[1;33m         'POST', url, headers=headers, params=params, json=json, data=data)\n\u001b[0m\u001b[0;32m     42\u001b[0m \u001b[1;33m\u001b[0m\u001b[0m\n\u001b[0;32m     43\u001b[0m \u001b[1;33m\u001b[0m\u001b[0m\n",
      "\u001b[1;32m~\\Anaconda3\\lib\\site-packages\\cognitive_face\\util.py\u001b[0m in \u001b[0;36mrequest\u001b[1;34m(method, url, data, json, headers, params)\u001b[0m\n\u001b[0;32m    103\u001b[0m         raise CognitiveFaceException(response.status_code,\n\u001b[0;32m    104\u001b[0m                                      \u001b[0merror_msg\u001b[0m\u001b[1;33m.\u001b[0m\u001b[0mget\u001b[0m\u001b[1;33m(\u001b[0m\u001b[1;34m'code'\u001b[0m\u001b[1;33m)\u001b[0m\u001b[1;33m,\u001b[0m\u001b[1;33m\u001b[0m\u001b[0m\n\u001b[1;32m--> 105\u001b[1;33m                                      error_msg.get('message'))\n\u001b[0m\u001b[0;32m    106\u001b[0m \u001b[1;33m\u001b[0m\u001b[0m\n\u001b[0;32m    107\u001b[0m     \u001b[1;31m# Prevent `response.json()` complains about empty response.\u001b[0m\u001b[1;33m\u001b[0m\u001b[1;33m\u001b[0m\u001b[0m\n",
      "\u001b[1;31mCognitiveFaceException\u001b[0m: Error when calling Cognitive Face API:\n\tstatus_code: 401\n\tcode: Unspecified\n\tmessage: Access denied due to invalid subscription key. Make sure you are subscribed to an API you are trying to call and provide the right key.\n"
     ]
    }
   ],
   "source": [
    "import cognitive_face as CF \n",
    "import os\n",
    "import requests\n",
    "from itertools import chain\n",
    "from operator import methodcaller\n",
    "from io import BytesIO\n",
    "from PIL import Image, ImageDraw,ImageFont #to draw box around face,write on image\n",
    "KEY = '' #Enter your api key within brackets\n",
    "CF.Key.set(KEY)\n",
    "BASE_URL = 'https://westcentralus.api.cognitive.microsoft.com/face/v1.0/' # change the base url to your one\n",
    "CF.BaseUrl.set(BASE_URL)\n",
    "img_url = r'C:\\Users\\Nithin\\Pictures\\Camera Roll\\nithincheck2.jpg' # the image to process.Can be local / online image url\n",
    "faces = CF.face.detect(img_url,attributes='age,gender,emotion')\n",
    "list1=[]\n",
    "list1=[x['faceAttributes'] for x in faces]\n",
    "list2=[y['emotion']for y  in list1]\n",
    "agelist=[g['age']for g  in list1]\n",
    "age=agelist[0]\n",
    "age=round(age)\n",
    "age=str(age)\n",
    "age=('Your Age Is ')+age\n",
    "thefinalone={}\n",
    "thefinalone=dict(chain.from_iterable(map(methodcaller('items'), list2)))\n",
    "theresult=max(thefinalone, key=thefinalone.get)\n",
    "image = Image.open(img_url)\n",
    "def getRectangle(faceDictionary):\n",
    "    rect = faceDictionary['faceRectangle']\n",
    "    left = rect['left']\n",
    "    top = rect['top']\n",
    "    bottom = left + rect['height']\n",
    "    right = top + rect['width']\n",
    "    return ((left, top), (bottom, right))\n",
    "draw = ImageDraw.Draw(image)\n",
    "for face in faces:\n",
    "    draw.rectangle(getRectangle(face), outline='green')\n",
    "draw = ImageDraw.Draw(image)\n",
    "font = ImageFont.truetype(\"arial.ttf\", 50)\n",
    "(x, y) = (50, 50)\n",
    "message = theresult\n",
    "color = 'rgb(255,255,255)' # black color\n",
    "draw.text((x, y), message, fill=color, font=font)\n",
    "(x, y) = (150, 150)\n",
    "draw.text((x, y), age , fill=color, font=font)\n",
    "image.show()\n",
    "\n",
    "            \n",
    "\n",
    "    \n",
    "\n",
    "\n"
   ]
  },
  {
   "cell_type": "code",
   "execution_count": null,
   "metadata": {},
   "outputs": [],
   "source": []
  }
 ],
 "metadata": {
  "kernelspec": {
   "display_name": "Python 3",
   "language": "python",
   "name": "python3"
  },
  "language_info": {
   "codemirror_mode": {
    "name": "ipython",
    "version": 3
   },
   "file_extension": ".py",
   "mimetype": "text/x-python",
   "name": "python",
   "nbconvert_exporter": "python",
   "pygments_lexer": "ipython3",
   "version": "3.6.4"
  }
 },
 "nbformat": 4,
 "nbformat_minor": 2
}
